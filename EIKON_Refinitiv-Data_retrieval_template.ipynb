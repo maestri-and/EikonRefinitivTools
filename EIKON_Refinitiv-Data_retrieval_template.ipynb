{
 "cells": [
  {
   "cell_type": "markdown",
   "id": "bc7226a3-6142-4c9d-89db-2e37aa04ddf0",
   "metadata": {},
   "source": [
    "<h1>Retrieving Financial Data from EIKON Refinitiv through API</h1>"
   ]
  },
  {
   "cell_type": "markdown",
   "id": "de173801-163b-44bf-aad8-f2cc431db0a5",
   "metadata": {},
   "source": [
    "<p> This notebook offers a useful starting point for those interested in retrieving financial data from <strong>EIKON Refinitiv</strong> (formerly <strong>Reuters</strong>) through <strong>API</strong>.</p>\n",
    "<p> The procedure relies on the Python package <strong>eikon</strong>. Make sure to have it installed before starting, together with pandas. An alternative is to use the <strong>refinitiv-data</strong> library. </p>\n",
    "<p> To provide an example of usage, the notebook retrieves data for ESG variables (emission data). You can adjust the API requests to retrieve whatever type of financial data available in EIKON, according to your needs. </p>\n",
    "<p> What is crucial to know at the very beginning is that the amount of data that can be retrieved per request through the EIKON API is very limited. Additionally, the EIKON API is quite unstable. This forces us to download the data in several steps and through a robust loop. </p>\n"
   ]
  },
  {
   "cell_type": "markdown",
   "id": "0c21210e-202e-4cdd-a20b-f97bf0bf7877",
   "metadata": {
    "jp-MarkdownHeadingCollapsed": true
   },
   "source": [
    "<h2>1. Setting up libraries, API connection and working paths</h2>"
   ]
  },
  {
   "cell_type": "markdown",
   "id": "54fc3b0f-30dd-4de2-88c7-17a62c2fb1d7",
   "metadata": {},
   "source": [
    "<h3>Importing libraries</h3>"
   ]
  },
  {
   "cell_type": "code",
   "execution_count": null,
   "id": "f0e4d259-0a8f-43ab-9f27-0668dcde4f76",
   "metadata": {},
   "outputs": [],
   "source": [
    "import pandas as pd\n",
    "import eikon as ek \n",
    "#import refinitiv.data as rd\n",
    "print('Eikon package version: ', ek.__version__)\n",
    "#print('Refinitiv-data package version: ', rd.__version__)"
   ]
  },
  {
   "cell_type": "markdown",
   "id": "75cfd3f1-d003-47b6-b266-58ef8c22d849",
   "metadata": {
    "jp-MarkdownHeadingCollapsed": true
   },
   "source": [
    "<h3>Setting up API connection to EIKON</h3>"
   ]
  },
  {
   "cell_type": "markdown",
   "id": "2f42f8af-e866-4965-8e6e-8a7984b4ad3f",
   "metadata": {},
   "source": [
    "Here you should set up the app key which can be generated inside the EIKON app using the AppKey Generator."
   ]
  },
  {
   "cell_type": "code",
   "execution_count": null,
   "id": "3a1177ce-658a-47f8-b816-a300ce4181c8",
   "metadata": {},
   "outputs": [],
   "source": [
    "ek.set_app_key('xxxxxxxxxxxxxxxxxxxxxxxxxxxxxxxxxxxx')"
   ]
  },
  {
   "cell_type": "markdown",
   "id": "3dbd843a-6c08-4367-9d24-58f3e0dfc82d",
   "metadata": {},
   "source": [
    "<h3>Defining working paths</h3>"
   ]
  },
  {
   "cell_type": "code",
   "execution_count": null,
   "id": "f62c0144-e7e7-4856-8455-c49019e82976",
   "metadata": {},
   "outputs": [],
   "source": [
    "# Local path used to store and retrieve company identifiers for data retrieval\n",
    "company_list_path = r'D:\\Data\\Climate risks\\Company list\\companies_full_list.csv'\n",
    "# Output path for data retrieved in Section 4\n",
    "output_path = r'D:\\Data\\Climate risks\\Firm-level data\\Emissions\\2023_capex_tangible_cash_esg_score.csv'"
   ]
  },
  {
   "cell_type": "markdown",
   "id": "2bc4b74f-afbb-416a-85dc-53a26264ddae",
   "metadata": {
    "jp-MarkdownHeadingCollapsed": true
   },
   "source": [
    "<h2>2. [Test] Example provided by LSEG guide on EIKON API access</h2>"
   ]
  },
  {
   "cell_type": "markdown",
   "id": "74cc5bd9-a5d5-459d-86fb-05d30cca8ba8",
   "metadata": {},
   "source": [
    "<p>This is an example taken from the official LSEG starter guide for API access to EIKON data to illustrate how the API works and to test it.</p>\n",
    "For more info, please see: https://developers.lseg.com/en/api-catalog/eikon/eikon-data-api/quick-start."
   ]
  },
  {
   "cell_type": "code",
   "execution_count": null,
   "id": "b2acac97-b99f-41af-9648-ff26120dcae7",
   "metadata": {
    "scrolled": true
   },
   "outputs": [],
   "source": [
    "test, err = ek.get_data(['GOOG.O', 'MSFT.O', 'FB.O', 'AMZN.O', 'TWTR.K'], \n",
    "                        ['TR.Revenue.date','TR.Revenue','TR.GrossProfit'],\n",
    "                        {'Scale': 6, 'SDate': 0, 'EDate': -2, 'FRQ': 'FY', 'Curn': 'EUR'})\n",
    "test"
   ]
  },
  {
   "cell_type": "markdown",
   "id": "a7a55f83-e574-4ae0-bf37-d300355e2220",
   "metadata": {
    "jp-MarkdownHeadingCollapsed": true
   },
   "source": [
    "<h2>3. Retrieving a list of companies for which desired data are available</h2>"
   ]
  },
  {
   "cell_type": "markdown",
   "id": "2cdd54af-cd36-4c06-a091-40ca7e2c72af",
   "metadata": {},
   "source": [
    "<p>First of all, we need to retrieve a list for which Refinitiv has data on emissions in order to run our API query. Such a list can be retrieved using the app SCREENER in Refinitiv. \n",
    "As of January 2024, we have over 7800 (7839) companies in the Refinitiv database with data for CO2 emissions. Given the limit of 5000 companies for the screener app, we will import two different list of companies - one for companies with HQ in European or American countries (4570) and one for the rest (3269). </p>\n",
    "\n",
    "<p> In case you plan to retrieve a large set of variables for the same corporates, <strong> store your company identifiers to skip this step later </strong>. In our setting, we retrieve them only once and we start again in Section 4 from the saved identifiers.</p>"
   ]
  },
  {
   "cell_type": "markdown",
   "id": "3dd00afe-13ab-4a2c-a866-588fab3f21a2",
   "metadata": {},
   "source": [
    "For more info on the use of the SCREENER app, see: https://developers.lseg.com/en/article-catalog/article/find-your-right-companies-with-screener-eikon-data-apis-python"
   ]
  },
  {
   "cell_type": "markdown",
   "id": "e43ff3d3-63cd-4773-a24b-4661d095cd2a",
   "metadata": {},
   "source": [
    "<h4>First retrieval of company identifiers using SCREENER</h4>"
   ]
  },
  {
   "cell_type": "code",
   "execution_count": null,
   "id": "af7c2eee-bc43-47b0-bd4d-137a6e50583c",
   "metadata": {},
   "outputs": [],
   "source": [
    "#Output from SCREENER app\n",
    "#For companies with HQ in Europe or in the Americas\n",
    "#=@TR(\"SCREEN(U(IN(Equity(active,public,private,primary))/*UNV:PublicPrivate*/), TR.CO2EmissionTotal(Period=FY0)>=0.01, IN(TR.HQCountryCode,\"\"AL\"\",\"\"AD\"\",\"\"BA\"\",\"\"HR\"\",\"\"CY\"\",\"\"GI\"\",\"\"GR\"\",\"\"IT\"\",\"\"MK\"\",\"\"MT\"\",\"\"PT\"\",\"\"ME\"\",\"\"RS\"\",\"\"SM\"\",\"\"S\"&\"I\"\",\"\"ES\"\",\"\"VA\"\",\"\"AT\"\",\"\"BE\"\",\"\"FR\"\",\"\"DE\"\",\"\"LI\"\",\"\"LU\"\",\"\"MC\"\",\"\"NL\"\",\"\"CH\"\",\"\"BY\"\",\"\"BG\"\",\"\"CZ\"\",\"\"HU\"\",\"\"MD\"\",\"\"PL\"\",\"\"RO\"\",\"\"RU\"\",\"\"SK\"\",\"\"UA\"\",\"\"DK\"\",\"\"EE\"\",\"\"FO\"\",\"\"FI\"\",\"\"GG\"\",\"\"IS\"\",\"\"IE\"\",\"\"IM\"\",\"\"JE\"\",\"\"LV\"\",\"\"LT\"\",\"\"N\"&\"O\"\",\"\"SJ\"\",\"\"SE\"\",\"\"GB\"\",\"\"AI\"\",\"\"AG\"\",\"\"AR\"\",\"\"AW\"\",\"\"BS\"\",\"\"BB\"\",\"\"BZ\"\",\"\"BO\"\",\"\"BR\"\",\"\"KY\"\",\"\"CL\"\",\"\"CO\"\",\"\"CR\"\",\"\"CU\"\",\"\"CW\"\",\"\"DM\"\",\"\"DO\"\",\"\"EC\"\",\"\"SV\"\",\"\"FK\"\",\"\"GF\"\",\"\"GD\"\",\"\"GP\"\",\"\"GT\"\",\"\"GY\"\",\"\"HT\"\",\"\"HN\"\",\"\"JM\"\",\"\"MQ\"\",\"\"M\"&\"X\"\",\"\"MS\"\",\"\"NI\"\",\"\"PA\"\",\"\"PY\"\",\"\"PE\"\",\"\"PR\"\",\"\"BL\"\",\"\"KN\"\",\"\"LC\"\",\"\"MF\"\",\"\"VC\"\",\"\"SX\"\",\"\"SR\"\",\"\"TT\"\",\"\"TC\"\",\"\"UY\"\",\"\"VE\"\",\"\"VG\"\",\"\"VI\"\",\"\"BM\"\",\"\"CA\"\",\"\"GL\"\",\"\"PM\"\",\"\"US\"\"), CURN=EUR)\",\"TR.CommonName;TR.CO2EmissionTotal(Period=FY0)\"&\";TR.HeadquartersCountry\",\"curn=EUR RH=In CH=Fd\")\n",
    "#For companies with HQ in Africa, Oceania and Asia\n",
    "#=@TR(\"SCREEN(U(IN(Equity(active,public,private,primary))/*UNV:PublicPrivate*/), TR.CO2EmissionTotal(Period=FY0)>=0.01, IN(TR.HQCountryCode,\"\"AF\"\",\"\"BD\"\",\"\"BT\"\",\"\"IO\"\",\"\"IN\"\",\"\"IR\"\",\"\"MV\"\",\"\"NP\"\",\"\"PK\"\",\"\"LK\"\",\"\"AM\"\",\"\"AZ\"\",\"\"BH\"\",\"\"GE\"\",\"\"I\"&\"Q\"\",\"\"IL\"\",\"\"JO\"\",\"\"KW\"\",\"\"LB\"\",\"\"OM\"\",\"\"PS\"\",\"\"QA\"\",\"\"SA\"\",\"\"SY\"\",\"\"TR\"\",\"\"AE\"\",\"\"YE\"\",\"\"BN\"\",\"\"KH\"\",\"\"ID\"\",\"\"LA\"\",\"\"MY\"\",\"\"MM\"\",\"\"PH\"\",\"\"SG\"\",\"\"TH\"\",\"\"TL\"\",\"\"VN\"\",\"\"CN\"\",\"\"HK\"\",\"\"JP\"\",\"\"KP\"\",\"\"KR\"\",\"\"MO\"\",\"\"MN\"\",\"\"TW\"\",\"\"KZ\"\",\"\"K\"&\"G\"\",\"\"TJ\"\",\"\"TM\"\",\"\"UZ\"\",\"\"DZ\"\",\"\"EG\"\",\"\"LY\"\",\"\"MA\"\",\"\"SS\"\",\"\"SD\"\",\"\"TN\"\",\"\"EH\"\",\"\"AO\"\",\"\"CM\"\",\"\"CF\"\",\"\"TD\"\",\"\"CG\"\",\"\"CD\"\",\"\"GQ\"\",\"\"GA\"\",\"\"ST\"\",\"\"BJ\"\",\"\"BF\"\",\"\"CV\"\",\"\"GM\"\",\"\"GH\"\",\"\"GN\"\",\"\"GW\"\",\"\"CI\"\",\"\"LR\"\",\"\"ML\"\",\"\"MR\"\",\"\"NE\"\",\"\"N\"&\"G\"\",\"\"SH\"\",\"\"SN\"\",\"\"SL\"\",\"\"TG\"\",\"\"BW\"\",\"\"LS\"\",\"\"NA\"\",\"\"ZA\"\",\"\"SZ\"\",\"\"BI\"\",\"\"KM\"\",\"\"DJ\"\",\"\"ER\"\",\"\"ET\"\",\"\"KE\"\",\"\"MG\"\",\"\"MW\"\",\"\"MU\"\",\"\"YT\"\",\"\"MZ\"\",\"\"RE\"\",\"\"RW\"\",\"\"SC\"\",\"\"SO\"\",\"\"TZ\"\",\"\"UG\"\",\"\"ZM\"\",\"\"ZW\"\",\"\"AU\"\",\"\"CX\"\",\"\"CC\"\",\"\"NZ\"\",\"\"N\"&\"F\"\",\"\"CK\"\",\"\"PF\"\",\"\"NU\"\",\"\"PN\"\",\"\"WS\"\",\"\"AS\"\",\"\"TK\"\",\"\"TO\"\",\"\"TV\"\",\"\"WF\"\",\"\"FJ\"\",\"\"NC\"\",\"\"PG\"\",\"\"SB\"\",\"\"VU\"\",\"\"GU\"\",\"\"KI\"\",\"\"MH\"\",\"\"FM\"\",\"\"NR\"\",\"\"MP\"\",\"\"PW\"\",\"\"UM\"\"), CURN=EUR)\",\"TR.CommonName;TR.CO2EmissionTotal(Period=FY0);TR.Hea\"&\"dquartersCountry\",\"curn=EUR RH=In CH=Fd\")\n",
    "\n",
    "#test on a smaller sample\n",
    "#italian_companies = \"SCREEN(U(IN(Equity(active,public,private,primary))), TR.CO2EmissionTotal(Period=FY0)>=0.01, IN(TR.HQCountryCode,\"\"IT\"\"), CURN=USD)\"\n",
    "\n",
    "#IMPORTANT TO MAKE THIS WORK starting from the EIKON Excel extension output\n",
    "#From the Excel formula, remove /*UNV:PublicPrivate*/ (comment) and a character \"&\" in the middle of the list of countries\n",
    "\n",
    "#Formula for list of companies with headquarter in Europe or Americas (4570)\n",
    "eu_am_hq_formula = \"SCREEN(U(IN(Equity(active,public,private,primary))), TR.CO2EmissionTotal(Period=FY0)>=0.01, IN(TR.HQCountryCode,\"\"AL\"\",\"\"AD\"\",\"\"BA\"\",\"\"HR\"\",\"\"CY\"\",\"\"GI\"\",\"\"GR\"\",\"\"IT\"\",\"\"MK\"\",\"\"MT\"\",\"\"PT\"\",\"\"ME\"\",\"\"RS\"\",\"\"SM\"\",\"\"SI\"\",\"\"ES\"\",\"\"VA\"\",\"\"AT\"\",\"\"BE\"\",\"\"FR\"\",\"\"DE\"\",\"\"LI\"\",\"\"LU\"\",\"\"MC\"\",\"\"NL\"\",\"\"CH\"\",\"\"BY\"\",\"\"BG\"\",\"\"CZ\"\",\"\"HU\"\",\"\"MD\"\",\"\"PL\"\",\"\"RO\"\",\"\"RU\"\",\"\"SK\"\",\"\"UA\"\",\"\"DK\"\",\"\"EE\"\",\"\"FO\"\",\"\"FI\"\",\"\"GG\"\",\"\"IS\"\",\"\"IE\"\",\"\"IM\"\",\"\"JE\"\",\"\"LV\"\",\"\"LT\"\",\"\"NO\"\",\"\"SJ\"\",\"\"SE\"\",\"\"GB\"\",\"\"AI\"\",\"\"AG\"\",\"\"AR\"\",\"\"AW\"\",\"\"BS\"\",\"\"BB\"\",\"\"BZ\"\",\"\"BO\"\",\"\"BR\"\",\"\"KY\"\",\"\"CL\"\",\"\"CO\"\",\"\"CR\"\",\"\"CU\"\",\"\"CW\"\",\"\"DM\"\",\"\"DO\"\",\"\"EC\"\",\"\"SV\"\",\"\"FK\"\",\"\"GF\"\",\"\"GD\"\",\"\"GP\"\",\"\"GT\"\",\"\"GY\"\",\"\"HT\"\",\"\"HN\"\",\"\"JM\"\",\"\"MQ\"\",\"\"MX\"\",\"\"MS\"\",\"\"NI\"\",\"\"PA\"\",\"\"PY\"\",\"\"PE\"\",\"\"PR\"\",\"\"BL\"\",\"\"KN\"\",\"\"LC\"\",\"\"MF\"\",\"\"VC\"\",\"\"SX\"\",\"\"SR\"\",\"\"TT\"\",\"\"TC\"\",\"\"UY\"\",\"\"VE\"\",\"\"VG\"\",\"\"VI\"\",\"\"BM\"\",\"\"CA\"\",\"\"GL\"\",\"\"PM\"\",\"\"US\"\"), CURN=EUR)\"\n",
    "\n",
    "#Formula for list of companies with headquarter in Africa, Asia or Oceania (3269)\n",
    "row_formula = \"SCREEN(U(IN(Equity(active,public,private,primary))), TR.CO2EmissionTotal(Period=FY0)>=0.01, IN(TR.HQCountryCode,\"\"AF\"\",\"\"BD\"\",\"\"BT\"\",\"\"IO\"\",\"\"IN\"\",\"\"IR\"\",\"\"MV\"\",\"\"NP\"\",\"\"PK\"\",\"\"LK\"\",\"\"AM\"\",\"\"AZ\"\",\"\"BH\"\",\"\"GE\"\",\"\"IQ\"\",\"\"IL\"\",\"\"JO\"\",\"\"KW\"\",\"\"LB\"\",\"\"OM\"\",\"\"PS\"\",\"\"QA\"\",\"\"SA\"\",\"\"SY\"\",\"\"TR\"\",\"\"AE\"\",\"\"YE\"\",\"\"BN\"\",\"\"KH\"\",\"\"ID\"\",\"\"LA\"\",\"\"MY\"\",\"\"MM\"\",\"\"PH\"\",\"\"SG\"\",\"\"TH\"\",\"\"TL\"\",\"\"VN\"\",\"\"CN\"\",\"\"HK\"\",\"\"JP\"\",\"\"KP\"\",\"\"KR\"\",\"\"MO\"\",\"\"MN\"\",\"\"TW\"\",\"\"KZ\"\",\"\"KG\"\",\"\"TJ\"\",\"\"TM\"\",\"\"UZ\"\",\"\"DZ\"\",\"\"EG\"\",\"\"LY\"\",\"\"MA\"\",\"\"SS\"\",\"\"SD\"\",\"\"TN\"\",\"\"EH\"\",\"\"AO\"\",\"\"CM\"\",\"\"CF\"\",\"\"TD\"\",\"\"CG\"\",\"\"CD\"\",\"\"GQ\"\",\"\"GA\"\",\"\"ST\"\",\"\"BJ\"\",\"\"BF\"\",\"\"CV\"\",\"\"GM\"\",\"\"GH\"\",\"\"GN\"\",\"\"GW\"\",\"\"CI\"\",\"\"LR\"\",\"\"ML\"\",\"\"MR\"\",\"\"NE\"\",\"\"NG\"\",\"\"SH\"\",\"\"SN\"\",\"\"SL\"\",\"\"TG\"\",\"\"BW\"\",\"\"LS\"\",\"\"NA\"\",\"\"ZA\"\",\"\"SZ\"\",\"\"BI\"\",\"\"KM\"\",\"\"DJ\"\",\"\"ER\"\",\"\"ET\"\",\"\"KE\"\",\"\"MG\"\",\"\"MW\"\",\"\"MU\"\",\"\"YT\"\",\"\"MZ\"\",\"\"RE\"\",\"\"RW\"\",\"\"SC\"\",\"\"SO\"\",\"\"TZ\"\",\"\"UG\"\",\"\"ZM\"\",\"\"ZW\"\",\"\"AU\"\",\"\"CX\"\",\"\"CC\"\",\"\"NZ\"\",\"\"NF\"\",\"\"CK\"\",\"\"PF\"\",\"\"NU\"\",\"\"PN\"\",\"\"WS\"\",\"\"AS\"\",\"\"TK\"\",\"\"TO\"\",\"\"TV\"\",\"\"WF\"\",\"\"FJ\"\",\"\"NC\"\",\"\"PG\"\",\"\"SB\"\",\"\"VU\"\",\"\"GU\"\",\"\"KI\"\",\"\"MH\"\",\"\"FM\"\",\"\"NR\"\",\"\"MP\"\",\"\"PW\"\",\"\"UM\"\"), CURN=EUR)\""
   ]
  },
  {
   "cell_type": "markdown",
   "id": "c9e7161e-8d2f-47c3-abe2-0041dd05aea9",
   "metadata": {},
   "source": [
    "<h4>Using the SCREENER formula to retrieve company identifiers - Part 1</h4>"
   ]
  },
  {
   "cell_type": "code",
   "execution_count": null,
   "id": "3386a091-d132-4093-a584-c54f8402aca5",
   "metadata": {},
   "outputs": [],
   "source": [
    "#Retrieving a list of names for companies based in Europe or Americas\n",
    "\n",
    "eu_am_companies_data, e = ek.get_data(eu_am_hq_list, ek.TR_Field('TR.CompanyName'))\n",
    "eu_am_companies = eu_am_companies_data['Instrument'].tolist()\n",
    "\n",
    "#Retrieving associated countrycodes via API and then merging with previous dataframe with company names\n",
    "eu_am_companies_cc, e = ek.get_data(eu_am_companies, ek.TR_Field('TR.HQCountryCode'))\n",
    "\n",
    "eu_am_companies_data = pd.merge(eu_am_companies_data, eu_am_companies_cc, 'left', 'Instrument')\n",
    "\n",
    "#export obtained dataset as .csv file\n",
    "eu_am_companies_data.to_csv(r'D:\\Data\\Climate risks\\Company list\\eu_am_company_list.csv', index = False)\n",
    "\n",
    "display(eu_am_companies_data)"
   ]
  },
  {
   "cell_type": "markdown",
   "id": "16d1d354-3e96-4ce7-a33e-3db8f58bf5ad",
   "metadata": {
    "jp-MarkdownHeadingCollapsed": true
   },
   "source": [
    "<h4>Using the SCREENER formula to retrieve company identifiers - Part 2</h4>"
   ]
  },
  {
   "cell_type": "code",
   "execution_count": null,
   "id": "6245cec4-ab22-41a7-9ec1-47a7a1faee97",
   "metadata": {},
   "outputs": [],
   "source": [
    "#Retrieving a list of names for companies based in Africa, Asia or Oceania\n",
    "\n",
    "row_companies_data, e = ek.get_data(row_formula, ek.TR_Field('TR.CompanyName'))\n",
    "row_companies = row_companies_data['Instrument'].tolist()\n",
    "\n",
    "#Retrieving associated countrycodes via API and then merging with previous dataframe with company names\n",
    "row_companies_cc, e = ek.get_data(row_companies, ek.TR_Field('TR.HQCountryCode'))\n",
    "\n",
    "row_companies_data = pd.merge(row_companies_data, row_companies_cc, 'left', 'Instrument')\n",
    "\n",
    "#export obtained dataset as .csv file\n",
    "row_companies_data.to_csv(r'D:\\Data\\Climate risks\\Company list\\row_company_list.csv', index = False)\n",
    "\n",
    "display(row_companies_data)"
   ]
  },
  {
   "cell_type": "markdown",
   "id": "88675118-0dd7-4f5a-aed1-9a0f95e166bf",
   "metadata": {
    "jp-MarkdownHeadingCollapsed": true
   },
   "source": [
    "<h4>Extracting full list of companies and saving it for later use</h4>"
   ]
  },
  {
   "cell_type": "code",
   "execution_count": null,
   "id": "be84e347-199c-42a8-a6e9-6afb3cdfae89",
   "metadata": {
    "scrolled": true
   },
   "outputs": [],
   "source": [
    "list_companies = pd.concat([eu_am_companies_data, row_companies_data])\n",
    "list_companies = list_companies.sort_values('Country ISO Code of Headquarters', ascending=True)\n",
    "\n",
    "#export obtained dataset as .csv file\n",
    "list_companies.to_csv(company_list_path, index = False)\n",
    "\n",
    "display(list_companies)"
   ]
  },
  {
   "cell_type": "code",
   "execution_count": null,
   "id": "9756a06b-6aad-46c8-8912-fd4ef528f60a",
   "metadata": {},
   "outputs": [],
   "source": [
    "del(test)\n",
    "del(eu_am_hq_formula, eu_am_companies, eu_am_companies_cc, eu_am_companies_data)\n",
    "del(row_formula, row_companies, row_companies_cc, row_companies_data)"
   ]
  },
  {
   "cell_type": "markdown",
   "id": "003127e2-0798-44e6-9246-b0b7bc33ea40",
   "metadata": {},
   "source": [
    "<h2>4. Querying Data through EIKON API</h2>"
   ]
  },
  {
   "cell_type": "markdown",
   "id": "d456d751-e942-438a-8441-5688c4a12bc9",
   "metadata": {
    "jp-MarkdownHeadingCollapsed": true
   },
   "source": [
    "<h3>a. Importing list of companies for which we want to retrieve data</h3>"
   ]
  },
  {
   "cell_type": "code",
   "execution_count": null,
   "id": "ce20958a-66a2-4785-8976-a3ba57f6f6e0",
   "metadata": {},
   "outputs": [],
   "source": [
    "# This list was retrieved using Section 3 of the notebook\n",
    "companies_data = pd.read_csv(company_list_path)\n",
    "company_codes = companies_data['Instrument'].tolist()\n",
    "print(company_codes[0:5])\n",
    "print(len(company_codes))"
   ]
  },
  {
   "cell_type": "markdown",
   "id": "5d230cf7-a246-46eb-8470-2723c5689060",
   "metadata": {
    "jp-MarkdownHeadingCollapsed": true
   },
   "source": [
    "<h3>b. Define fields to be downloaded and test connection to EIKON</h3>"
   ]
  },
  {
   "cell_type": "code",
   "execution_count": null,
   "id": "53d1e360-0016-4352-9831-69b864c5f87a",
   "metadata": {},
   "outputs": [],
   "source": [
    "#Companies for which we want to retrieve data were previously retrieved and imported \n",
    "#Define variables to retrieve - here a set of possible corporate variables of interest\n",
    "\n",
    "\n",
    "fields = [#ek.TR_Field('TR.CO2EstimationMethod', {'SDate':'FY2017'}),               #CO2 Estimation Method\n",
    "          #ek.TR_Field('TR.TargetsEmissions', {'SDate':'FY2023'}),\n",
    "          #ek.TR_Field('TR.F.PeriodEndDate', {'Period':'FY2022'}),#Does it have an emission reduction target?\n",
    "          #ek.TR_Field('TR.CO2DirectScope1', {'Period':'FY2022'}),                   #CO2 Equivalent Scope1 Emissions\n",
    "          #ek.TR_Field('TR.CO2IndirectScope2', {'Period':'FY2022'}),                 #CO2 Equivalent Scope2 Emissions\n",
    "          #ek.TR_Field('TR.CO2EmissionTotal', {'Period':'FY2022'})                 #CO2 Equivalent Emissions Total\n",
    "          #ek.TR_Field('TR.Revenue', {'Scale': 6, 'Period':'FY2022', 'Curn': 'EUR'}),                     #Revenue\n",
    "          #ek.TR_Field('TR.Revenue.date', {'SDate':'FY2018'})\n",
    "          #ek.TR_Field('TR.AnalyticCO2', {'SDate':'FY2018'}),                      #Total CO2 E.E. to Revenues in USD million\n",
    "          #ek.TR_Field('TR.CO2EmissionTotal.periodenddate', {'SDate':'FY2018'}),   #EOP for CO2 Equivalent Emissions Total\n",
    "          #ek.TR_Field('TR.NAICSIndustryGroupCode'),\n",
    "          #ek.TR_Field('TR.NACEClassification'),\n",
    "          #ek.TR_Field('TR.LegalEntityIdentifier'),\n",
    "          #ek.TR_Field('TR.CreditRatioPD'),\n",
    "          #ek.TR_Field('TR.CreditComboCPD'),\n",
    "          #ek.TR_Field('TR.TotalAssetsReported', {'Scale': 6, 'Period':'FY2022', 'Curn': 'EUR'}),\n",
    "          #ek.TR_Field('TR.TotalLiabilities', {'Scale': 6, 'Period':'FY2022', 'Curn': 'EUR'}),\n",
    "          #ek.TR_Field('TR.F.EBITDAMargPct', {'Period':'FY2022'})\n",
    "          ek.TR_Field('TR.CapitalExpenditures', {'Scale': 6, 'Period':'FY2022', 'Curn': 'EUR'}),\n",
    "          ek.TR_Field('TR.PropertyPlantEquipmentTotalNet', {'Scale': 6, 'Period':'FY2022', 'Curn': 'EUR'}),\n",
    "          ek.TR_Field('TR.CashAndSTInvestments', {'Scale': 6, 'Period':'FY2022', 'Curn': 'EUR'}),\n",
    "          ek.TR_Field('TR.TRESGScore', {'Period':'FY2022'}),\n",
    "          #ek.TR_Field('TR.TRESGScore', {'SDate':'FY2021'}),\n",
    "          #ek.TR_Field('TR.TRESGScore', {'SDate':'FY2022'}),\n",
    "          #ek.TR_Field('TR.OrganizationStatusCode'),\n",
    "          #ek.TR_Field('TR.InstrumentListingStatus'),\n",
    "          #ek.TR_Field('TR.TargetsEmissions', {'Period':'FY2022'}),\n",
    "          #ek.TR_Field('TR.EmissionReductionTargetYear', {'Period':'FY2022'}),\n",
    "          #ek.TR_Field('TR.EmissionReductionTargetPctage', {'Period':'FY2022'}),\n",
    "          #ek.TR_Field('TR.CSRReportingScope', {'Period':'FY2022'})\n",
    "          #ek.TR_Field('TR.F.PeriodEndDate', {'EDate':'FY2018'})\n",
    "    \n",
    "    ]\n",
    "\n",
    "# Test connection\n",
    "try:\n",
    "    print(\"Testing connection...\")\n",
    "    df, e = ek.get_data('ALDAR.AD', fields)\n",
    "    display(df)\n",
    "    if df.isnull().values.any()==False:         #check if we actually downloaded all data requested\n",
    "        print(\"Eikon is working!\")\n",
    "    else:\n",
    "        print(\"EIKON IS NOT WORKING!\")\n",
    "except EikonError:\n",
    "    print(\"EIKON IS NOT WORKING!\")"
   ]
  },
  {
   "cell_type": "code",
   "execution_count": null,
   "id": "dafd1d2a-5b20-4d8c-ac66-feea7bf252ee",
   "metadata": {},
   "outputs": [],
   "source": [
    "# Use first company to retrieve column names and create empty dataframe that will be appended by the loop\n",
    "df_template=df.drop([0]).copy()\n",
    "df_template"
   ]
  },
  {
   "cell_type": "markdown",
   "id": "8f2eb12e-664d-4d56-9290-7e22db712e8a",
   "metadata": {
    "jp-MarkdownHeadingCollapsed": true
   },
   "source": [
    "<h3>c. Define function and retrieve data - one row per request</h3>"
   ]
  },
  {
   "cell_type": "code",
   "execution_count": null,
   "id": "99f5d309-d3bd-4c8b-ab9b-74ba6274c135",
   "metadata": {
    "editable": true,
    "scrolled": true,
    "slideshow": {
     "slide_type": ""
    },
    "tags": []
   },
   "outputs": [],
   "source": [
    "# Consider using Section D to retrieve data much more efficiently\n",
    "# Define a function to retrieve data efficiently from EIKON, given a list of company codes, fields to be downloaded and output path\n",
    "\n",
    "def force_get_eikon_data(company_codes, fields, output_path):\n",
    "    \n",
    "    #use first company to retrieve column names and create empty dataframe - hard-coded\n",
    "    #df, e = ek.get_data('ALDAR.AD', fields)\n",
    "    #df_template=df.drop([0])\n",
    "    \n",
    "\n",
    "    #creating a while loop to overcome the issues with the API (Timeout and BadRequest errors)\n",
    "    total_completed_cases = list()\n",
    "    to_be_downloaded = company_codes.copy()\n",
    "    df = df_template.copy()\n",
    "    df_to_save = df_template.copy()\n",
    "    df.to_csv(output_path, index=False, mode='w', header=True) #create the empty csv file where we will append data\n",
    "\n",
    "    while (len(to_be_downloaded)!=0):                    #run the loop as long as there are companies for which data is not downloaded\n",
    "    \n",
    "        completed_cases = list()\n",
    "        print(\"Launching loop...\")\n",
    "     \n",
    "        for company in to_be_downloaded:\n",
    "            try:\n",
    "                temp, e = ek.get_data(company, fields)   # download data\n",
    "\n",
    "                df = pd.concat([df, temp])                       #append data to dataframe\n",
    "                df_to_save = pd.concat([df_to_save, temp])       #append data to temporary dataframe needed to save data \n",
    "                total_completed_cases.append(company)            #append to list of completed cases\n",
    "                completed_cases.append(company)                  #append to temporary list of completed cases\n",
    "                to_be_downloaded.remove(company)                 #remove from list of companies to be downloaded\n",
    "                \n",
    "                print(\"Downloaded data for \" + str(company)) \n",
    "            except:\n",
    "                if len(completed_cases)>0:\n",
    "                    df_to_save.to_csv(output_path, index=False, mode='a', header=False) #save what we downloaded so far             \n",
    "                    print(\"EikonError after \" + str(len(completed_cases)) + \" companies. Saving data...\")\n",
    "\n",
    "                else:\n",
    "                    print(\"EikonError after \" + str(len(completed_cases)) + \" companies.\")\n",
    "                                      \n",
    "                print(\"EikonError after \" + str(len(completed_cases)) + \" companies. Saving data...\")\n",
    "                print(\"Remaining companies: \" + str(len(to_be_downloaded)))\n",
    "                print(\"Relaunching...\")\n",
    "                completed_cases = list()\n",
    "                df_to_save = df_template.copy()\n",
    "                break\n",
    "\n",
    "    df_to_save.to_csv(output_path, index=False, mode='a', header=False) #save data\n",
    "    print(\"Downloaded and saved \" + str(len(total_completed_cases)) + \" rows of data\")\n",
    "    print(df.tail())\n",
    "    return df\n",
    "    \n",
    "force_get_eikon_data(company_codes, fields, output_path)"
   ]
  },
  {
   "cell_type": "markdown",
   "id": "b4ed0f09-9d8f-4fe2-bf9e-e6c49fb99a07",
   "metadata": {
    "jp-MarkdownHeadingCollapsed": true
   },
   "source": [
    "<h3>d. Define function and retrieve data - three rows per request</h3>"
   ]
  },
  {
   "cell_type": "code",
   "execution_count": null,
   "id": "ea00c7e3-2fe3-4117-9cbc-46cf3eb8b61e",
   "metadata": {
    "editable": true,
    "scrolled": true,
    "slideshow": {
     "slide_type": ""
    },
    "tags": []
   },
   "outputs": [],
   "source": [
    "#define a function to retrieve data efficiently from EIKON, given a list of company codes, fields to be downloaded and output path\n",
    "#Three rows per request\n",
    "\n",
    "def grouped(iterable, n):\n",
    "    \"s -> (s0,s1,s2,...sn-1), (sn,sn+1,sn+2,...s2n-1), (s2n,s2n+1,s2n+2,...s3n-1), ...\"\n",
    "    return zip(*[iter(iterable)]*n)\n",
    "\n",
    "def open_or_create_csv(filepath):\n",
    "    #Check whether a partial csv file exists, otherwise create the empty csv file where we will append data\n",
    "    #and define list of firms for which we have to download data\n",
    "    to_be_downloaded = []\n",
    "    try:\n",
    "        df = pd.read_csv(filepath)\n",
    "        downloaded_firms = df.iloc[:,0].unique().tolist()\n",
    "        for company in company_codes:\n",
    "            if company not in downloaded_firms:\n",
    "                to_be_downloaded.append(company)\n",
    "        print(\"Found existing file with data for\", str(len(downloaded_firms)), \"firms!\")\n",
    "        print(\"To be downloaded:\", str(len(to_be_downloaded)))\n",
    "        \n",
    "    except FileNotFoundError:\n",
    "        #Save first copy if file is not there and download all companies\n",
    "        print(\"Printing new file...\")\n",
    "        df = df_template.copy()\n",
    "        df.to_csv(filepath, index=False, mode='w', header=True)\n",
    "        to_be_downloaded = company_codes.copy()\n",
    "        \n",
    "    except Exception as e:\n",
    "        print(\"An error occured:\", e)\n",
    "        \n",
    "    return df, to_be_downloaded\n",
    "\n",
    "def check_correct_data_structure(df):\n",
    "    try:\n",
    "        df.columns.tolist() == df_template.columns.tolist()\n",
    "    except:\n",
    "        raise Exception(\"Columns of the loaded dataframe do not match fields to download! Check your filepath or EIKON fields!\")\n",
    "        \n",
    "def force_get_eikon_data_3x(company_codes, fields, output_path):\n",
    "    \n",
    "    #use first company to retrieve column names and create empty dataframe - hard-coded\n",
    "    #df, e = ek.get_data('ALDAR.AD', fields)\n",
    "    #df_template=df.drop([0])\n",
    "    \n",
    "    #creating a while loop to overcome the issues with the API (Timeout and BadRequest errors)\n",
    "    total_completed_cases = list()\n",
    "    df_to_save = df_template.copy()\n",
    "        \n",
    "    #Check whether a partial csv file exists, otherwise create the empty csv file where we will append data\n",
    "    df, to_be_downloaded = open_or_create_csv(output_path)\n",
    "    check_correct_data_structure(df)\n",
    "\n",
    "    while (len(to_be_downloaded)!=0):                    #run the loop as long as there are companies for which data is not downloaded\n",
    "    \n",
    "        completed_cases = list()\n",
    "        print(\"Launching loop...\")\n",
    "        \n",
    "        while (len(to_be_downloaded) >= 3):                          #group by 3 as long as we have at least 3 elements           \n",
    "            for company1, company2, company3 in grouped(to_be_downloaded, 3):\n",
    "                try:\n",
    "                    temp, e = ek.get_data([company1, company2, company3], fields)   # download data\n",
    "                    print(temp)\n",
    "\n",
    "                    df = pd.concat([df, temp])                       #append data to dataframe\n",
    "                    df_to_save = pd.concat([df_to_save, temp])       #append data to temporary dataframe needed to save data\n",
    "\n",
    "                    for company in [company1, company2, company3]:\n",
    "                        total_completed_cases.append(company)            #append to list of completed cases\n",
    "                        completed_cases.append(company)                  #append to temporary list of completed cases\n",
    "                        to_be_downloaded.remove(company)                 #remove from list of companies to be downloaded\n",
    "                \n",
    "                    print(\"Downloaded data for \" + str(company1) + \", \" + str(company2) + \", \" + str(company3)) \n",
    "                except:\n",
    "                    df_to_save.to_csv(output_path, index=False, mode='a', header=False) #print what we downloaded so far\n",
    "                                      \n",
    "                    print(\"EikonError after \" + str(len(completed_cases)) + \" companies. Saving data...\")\n",
    "                    print(\"Remaining companies: \" + str(len(to_be_downloaded)))\n",
    "                    print(\"Relaunching...\")\n",
    "                    completed_cases = list()\n",
    "                    df_to_save = df_template.copy()\n",
    "                    break\n",
    "\n",
    "        for company in to_be_downloaded:\n",
    "            try:\n",
    "                temp, e = ek.get_data(company, fields)   # download data\n",
    "\n",
    "                df = pd.concat([df, temp])                       #append data to dataframe\n",
    "                df_to_save = pd.concat([df_to_save, temp])       #append data to temporary dataframe needed to save data \n",
    "                total_completed_cases.append(company)            #append to list of completed cases\n",
    "                completed_cases.append(company)                  #append to temporary list of completed cases\n",
    "                to_be_downloaded.remove(company)                 #remove from list of companies to be downloaded\n",
    "                \n",
    "                print(\"Downloaded data for \" + str(company)) \n",
    "            except:\n",
    "                if len(completed_cases)>0:\n",
    "                    df_to_save.to_csv(output_path, index=False, mode='a', header=False) #save what we downloaded so far             \n",
    "                    print(\"EikonError after \" + str(len(completed_cases)) + \" companies. Saving data...\")\n",
    "\n",
    "                else:\n",
    "                    print(\"EikonError/User stop after \" + str(len(completed_cases)) + \" companies.\")\n",
    "\n",
    "                print(\"Remaining companies: \" + str(len(to_be_downloaded)))\n",
    "                print(\"Relaunching...\")\n",
    "                completed_cases = list()\n",
    "                df_to_save = df_template.copy()\n",
    "                break\n",
    "\n",
    "    df_to_save.to_csv(output_path, index=False, mode='a', header=False) #save data\n",
    "    print(\"Downloaded and saved \" + str(len(total_completed_cases)) + \" rows of data\")\n",
    "    print(df.tail())\n",
    "    return df\n",
    "    \n",
    "force_get_eikon_data_3x(company_codes, fields, output_path)"
   ]
  }
 ],
 "metadata": {
  "kernelspec": {
   "display_name": "Python 3 (ipykernel)",
   "language": "python",
   "name": "python3"
  },
  "language_info": {
   "codemirror_mode": {
    "name": "ipython",
    "version": 3
   },
   "file_extension": ".py",
   "mimetype": "text/x-python",
   "name": "python",
   "nbconvert_exporter": "python",
   "pygments_lexer": "ipython3",
   "version": "3.12.8"
  }
 },
 "nbformat": 4,
 "nbformat_minor": 5
}
